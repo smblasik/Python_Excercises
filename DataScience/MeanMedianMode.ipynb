{
 "cells": [
  {
   "cell_type": "markdown",
   "metadata": {
    "deletable": true,
    "editable": true
   },
   "source": [
    "# Mean, Median, Mode, and introducing NumPy"
   ]
  },
  {
   "cell_type": "markdown",
   "metadata": {
    "deletable": true,
    "editable": true
   },
   "source": [
    "## Mean vs. Median"
   ]
  },
  {
   "cell_type": "markdown",
   "metadata": {
    "deletable": true,
    "editable": true
   },
   "source": [
    "Let's create some fake income data, centered around 27,000 with a normal distribution and standard deviation of 15,000, with 10,000 data points. (We'll discuss those terms more later, if you're not familiar with them.)\n",
    "\n",
    "Then, compute the mean (average) - it should be close to 27,000:"
   ]
  },
  {
   "cell_type": "code",
   "execution_count": 4,
   "metadata": {
    "collapsed": false,
    "deletable": true,
    "editable": true
   },
   "outputs": [
    {
     "data": {
      "text/plain": [
       "26884.495033833009"
      ]
     },
     "execution_count": 4,
     "metadata": {},
     "output_type": "execute_result"
    }
   ],
   "source": [
    "import numpy as np\n",
    "\n",
    "incomes = np.random.normal(27000, 15000, 10000)\n",
    "np.mean(incomes)"
   ]
  },
  {
   "cell_type": "markdown",
   "metadata": {
    "deletable": true,
    "editable": true
   },
   "source": [
    "We can segment the income data into 50 buckets, and plot it as a histogram:"
   ]
  },
  {
   "cell_type": "code",
   "execution_count": 5,
   "metadata": {
    "collapsed": false,
    "deletable": true,
    "editable": true
   },
   "outputs": [
    {
     "data": {
      "image/png": "[encoded data removed]",
      "text/plain": [
       "<matplotlib.figure.Figure at 0x10ed62dd8>"
      ]
     },
     "metadata": {},
     "output_type": "display_data"
    }
   ],
   "source": [
    "%matplotlib inline\n",
    "import matplotlib.pyplot as plt\n",
    "plt.hist(incomes, 50)\n",
    "plt.show()"
   ]
  },
  {
   "cell_type": "markdown",
   "metadata": {
    "deletable": true,
    "editable": true
   },
   "source": [
    "Now compute the median - since we have a nice, even distribution it too should be close to 27,000:"
   ]
  },
  {
   "cell_type": "code",
   "execution_count": 6,
   "metadata": {
    "collapsed": false,
    "deletable": true,
    "editable": true
   },
   "outputs": [
    {
     "data": {
      "text/plain": [
       "26778.948510483613"
      ]
     },
     "execution_count": 6,
     "metadata": {},
     "output_type": "execute_result"
    }
   ],
   "source": [
    "np.median(incomes)"
   ]
  },
  {
   "cell_type": "markdown",
   "metadata": {
    "deletable": true,
    "editable": true
   },
   "source": [
    "Now we'll add Donald Trump into the mix. Darn income inequality!"
   ]
  },
  {
   "cell_type": "code",
   "execution_count": 7,
   "metadata": {
    "collapsed": false,
    "deletable": true,
    "editable": true
   },
   "outputs": [],
   "source": [
    "incomes = np.append(incomes, [1000000000])"
   ]
  },
  {
   "cell_type": "markdown",
   "metadata": {
    "deletable": true,
    "editable": true
   },
   "source": [
    "The median won't change much, but the mean does:"
   ]
  },
  {
   "cell_type": "code",
   "execution_count": 8,
   "metadata": {
    "collapsed": false,
    "deletable": true,
    "editable": true
   },
   "outputs": [
    {
     "data": {
      "text/plain": [
       "26779.032328658872"
      ]
     },
     "execution_count": 8,
     "metadata": {},
     "output_type": "execute_result"
    }
   ],
   "source": [
    "np.median(incomes)"
   ]
  },
  {
   "cell_type": "code",
   "execution_count": 9,
   "metadata": {
    "collapsed": false,
    "deletable": true,
    "editable": true
   },
   "outputs": [
    {
     "data": {
      "text/plain": [
       "126871.80785304772"
      ]
     },
     "execution_count": 9,
     "metadata": {},
     "output_type": "execute_result"
    }
   ],
   "source": [
    "np.mean(incomes)"
   ]
  },
  {
   "cell_type": "markdown",
   "metadata": {
    "deletable": true,
    "editable": true
   },
   "source": [
    "## Mode"
   ]
  },
  {
   "cell_type": "markdown",
   "metadata": {
    "deletable": true,
    "editable": true
   },
   "source": [
    "Next, let's generate some fake age data for 500 people:"
   ]
  },
  {
   "cell_type": "code",
   "execution_count": 12,
   "metadata": {
    "collapsed": false,
    "deletable": true,
    "editable": true
   },
   "outputs": [
    {
     "data": {
      "text/plain": [
       "array([63, 78, 52, 30, 55, 76, 40, 49, 86, 18, 89, 63, 32, 64, 61, 89, 56,\n",
       "       24, 61, 36, 38, 48, 33, 35, 65, 75, 76, 48, 63, 59, 59, 83, 33, 50,\n",
       "       86, 29, 54, 24, 29, 31, 40, 29, 33, 53, 58, 68, 29, 56, 29, 85, 43,\n",
       "       70, 58, 18, 84, 35, 75, 33, 66, 57, 43, 73, 31, 33, 57, 57, 88, 65,\n",
       "       57, 40, 74, 43, 86, 72, 43, 73, 77, 21, 75, 72, 75, 59, 69, 39, 38,\n",
       "       27, 76, 35, 65, 34, 54, 54, 87, 76, 30, 66, 30, 78, 71, 55, 54, 77,\n",
       "       67, 65, 33, 50, 71, 52, 46, 64, 40, 20, 50, 38, 87, 29, 85, 66, 76,\n",
       "       83, 57, 19, 53, 50, 24, 63, 38, 42, 74, 26, 34, 44, 35, 75, 18, 68,\n",
       "       40, 31, 22, 32, 29, 76, 81, 65, 87, 54, 75, 29, 67, 62, 71, 56, 64,\n",
       "       81, 79, 78, 35, 25, 71, 74, 43, 39, 50, 61, 41, 29, 78, 36, 71, 89,\n",
       "       33, 79, 27, 44, 71, 86, 65, 43, 25, 66, 20, 89, 83, 41, 83, 22, 66,\n",
       "       30, 75, 46, 51, 42, 88, 33, 84, 35, 63, 68, 43, 23, 31, 76, 25, 83,\n",
       "       76, 53, 27, 41, 31, 25, 82, 45, 60, 33, 77, 88, 43, 65, 31, 86, 25,\n",
       "       78, 21, 72, 20, 43, 42, 60, 85, 72, 34, 26, 89, 37, 72, 82, 75, 75,\n",
       "       35, 39, 28, 62, 59, 22, 66, 27, 80, 57, 38, 62, 85, 84, 18, 80, 23,\n",
       "       74, 88, 76, 58, 44, 20, 33, 88, 50, 70, 48, 50, 31, 58, 29, 25, 87,\n",
       "       34, 54, 43, 69, 64, 49, 48, 86, 63, 75, 62, 74, 38, 20, 36, 80, 72,\n",
       "       25, 25, 55, 31, 85, 63, 27, 68, 49, 36, 34, 62, 52, 71, 41, 46, 27,\n",
       "       59, 53, 87, 48, 31, 27, 67, 46, 46, 87, 31, 61, 31, 87, 27, 76, 70,\n",
       "       85, 34, 21, 19, 55, 82, 64, 78, 84, 80, 65, 68, 41, 68, 63, 21, 33,\n",
       "       43, 61, 85, 27, 77, 67, 42, 58, 78, 43, 23, 89, 36, 53, 50, 54, 28,\n",
       "       54, 20, 21, 59, 37, 41, 29, 77, 44, 48, 58, 28, 21, 42, 74, 34, 68,\n",
       "       55, 43, 80, 53, 81, 56, 26, 63, 80, 81, 60, 85, 24, 34, 77, 36, 60,\n",
       "       39, 83, 52, 39, 24, 50, 56, 84, 24, 39, 58, 70, 46, 41, 79, 33, 49,\n",
       "       72, 75, 20, 75, 77, 69, 45, 71, 42, 24, 31, 60, 59, 21, 86, 32, 65,\n",
       "       44, 61, 71, 48, 72, 24, 20, 38, 21, 82, 35, 63, 48, 82, 25, 20, 54,\n",
       "       39, 80, 37, 82, 76, 78, 76, 54, 89, 47, 62, 51, 62, 66, 77, 69, 69,\n",
       "       21, 43, 62, 45, 27, 86, 65, 28, 77, 79, 89, 58, 29, 41, 76, 78, 36,\n",
       "       58, 58, 53, 34, 31, 70, 18, 44, 59, 48, 87, 42, 57, 61, 54, 87, 25,\n",
       "       33, 83, 35, 70, 41, 59, 80])"
      ]
     },
     "execution_count": 12,
     "metadata": {},
     "output_type": "execute_result"
    }
   ],
   "source": [
    "ages = np.random.randint(18, high=90, size=500)\n",
    "ages"
   ]
  },
  {
   "cell_type": "code",
   "execution_count": 11,
   "metadata": {
    "collapsed": false,
    "deletable": true,
    "editable": true
   },
   "outputs": [
    {
     "data": {
      "text/plain": [
       "ModeResult(mode=array([88]), count=array([14]))"
      ]
     },
     "execution_count": 11,
     "metadata": {},
     "output_type": "execute_result"
    }
   ],
   "source": [
    "from scipy import stats\n",
    "stats.mode(ages)"
   ]
  }
 ],
 "metadata": {
  "kernelspec": {
   "display_name": "Python 3",
   "language": "python",
   "name": "python3"
  },
  "language_info": {
   "codemirror_mode": {
    "name": "ipython",
    "version": 3
   },
   "file_extension": ".py",
   "mimetype": "text/x-python",
   "name": "python",
   "nbconvert_exporter": "python",
   "pygments_lexer": "ipython3",
   "version": "3.5.2"
  }
 },
 "nbformat": 4,
 "nbformat_minor": 0
}
